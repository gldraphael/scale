{
 "cells": [
  {
   "cell_type": "code",
   "execution_count": 1,
   "metadata": {},
   "outputs": [],
   "source": [
    "ORGINAL_CSV_PATH = './dataset/dataset-original.csv'\n",
    "TRANSFORMED_CSV_PATH = './dataset/dataset.csv'"
   ]
  },
  {
   "cell_type": "code",
   "execution_count": 2,
   "metadata": {},
   "outputs": [],
   "source": [
    "import pandas as pd\n",
    "\n",
    "df = pd.read_csv(ORGINAL_CSV_PATH)\n",
    "df = df.rename(columns={\n",
    "    'Gender':     'sex',\n",
    "    'Age':        'age',\n",
    "    'Height':     'height',\n",
    "    'Weight':     'weight',\n",
    "    'family_history_with_overweight': 'has_family_history',\n",
    "    'FAVC':       'freq_high_calorie_intake',\n",
    "    'FCVC':       'veg_in_meals',\n",
    "    'NCP':        'num_meals',\n",
    "    'CAEC':       'food_bw_meals',\n",
    "    'SMOKE':      'is_smoker',\n",
    "    'CH2O':       'water_intake',\n",
    "    'SCC':        'monitors_calories',\n",
    "    'FAF':        'physical_act_freq',\n",
    "    'TUE':        'screen_time',\n",
    "    'CALC':       'alcohol_freq',\n",
    "    'MTRANS':     'transportation',\n",
    "    'NObeyesdad': 'target_obs_level',\n",
    "})\n",
    "df.food_bw_meals = (df.food_bw_meals\n",
    "    .replace('Always',     'always')\n",
    "    .replace('Frequently', 'frequently')\n",
    "    .replace('Sometimes',  'sometimes')\n",
    "    .replace('no',         'never')\n",
    ")\n",
    "df.alcohol_freq = (df.alcohol_freq\n",
    "    .replace('Always',     'always')\n",
    "    .replace('Frequently', 'frequently')\n",
    "    .replace('Sometimes',  'sometimes')\n",
    "    .replace('no',         'never')\n",
    ")\n",
    "df.sex = df.sex.replace('Male', 'male').replace('Female', 'female')\n",
    "df.transportation = (df.transportation\n",
    "    .replace('Public_Transportation', 'public_transportation')\n",
    "    .replace('Walking',    'walking')\n",
    "    .replace('Automobile', 'automobile')\n",
    "    .replace('Motorbike',  'motorbike')\n",
    "    .replace('Bike',       'bike')\n",
    ")\n",
    "df.target_obs_level = (df.target_obs_level\n",
    "    .replace('Insufficient_Weight', 'insufficient_weight')\n",
    "    .replace('Normal_Weight',       'normal_weight')\n",
    "    .replace('Obesity_Type_I',      'obesity_type_1')\n",
    "    .replace('Obesity_Type_II',     'obesity_type_2')\n",
    "    .replace('Obesity_Type_III',    'obesity_type_3')\n",
    "    .replace('Overweight_Level_I',  'overweight_level_1')\n",
    "    .replace('Overweight_Level_II', 'overweight_level_2')\n",
    ")\n",
    "\n",
    "df.to_csv(TRANSFORMED_CSV_PATH, index=False)"
   ]
  }
 ],
 "metadata": {
  "kernelspec": {
   "display_name": ".venv",
   "language": "python",
   "name": "python3"
  },
  "language_info": {
   "codemirror_mode": {
    "name": "ipython",
    "version": 3
   },
   "file_extension": ".py",
   "mimetype": "text/x-python",
   "name": "python",
   "nbconvert_exporter": "python",
   "pygments_lexer": "ipython3",
   "version": "3.12.6"
  }
 },
 "nbformat": 4,
 "nbformat_minor": 2
}
