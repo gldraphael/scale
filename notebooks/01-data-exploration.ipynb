{
 "cells": [
  {
   "cell_type": "markdown",
   "metadata": {},
   "source": [
    "# Data exploration notebook\n",
    "\n",
    "The dataset contains the following data:\n",
    "\n",
    "Field                    | Type\n",
    "-------------------------|---------------------------\n",
    "Gender                   | Enum (Male|Female)\n",
    "Age                      | float\n",
    "Height                   | \n",
    "family_history_with_overweight | boolean\n",
    "\n",
    "\n"
   ]
  },
  {
   "cell_type": "code",
   "execution_count": 13,
   "metadata": {},
   "outputs": [
    {
     "name": "stdout",
     "output_type": "stream",
     "text": [
      "<class 'pandas.core.frame.DataFrame'>\n",
      "RangeIndex: 2111 entries, 0 to 2110\n",
      "Data columns (total 17 columns):\n",
      " #   Column                    Non-Null Count  Dtype   \n",
      "---  ------                    --------------  -----   \n",
      " 0   sex                       2111 non-null   category\n",
      " 1   age                       2111 non-null   float64 \n",
      " 2   height                    2111 non-null   float64 \n",
      " 3   weight                    2111 non-null   float64 \n",
      " 4   has_family_history        2111 non-null   bool    \n",
      " 5   freq_high_calorie_intake  2111 non-null   bool    \n",
      " 6   veg_in_meals              2111 non-null   float64 \n",
      " 7   num_meals                 2111 non-null   float64 \n",
      " 8   food_bw_meals             2111 non-null   object  \n",
      " 9   smoker                    2111 non-null   object  \n",
      " 10  water_intake              2111 non-null   float64 \n",
      " 11  monitors_calories         2111 non-null   object  \n",
      " 12  physical_act_freq         2111 non-null   float64 \n",
      " 13  screen_time               2111 non-null   float64 \n",
      " 14  alcohol_freq              2111 non-null   object  \n",
      " 15  transportation            2111 non-null   object  \n",
      " 16  target_obs_level          2111 non-null   object  \n",
      "dtypes: bool(2), category(1), float64(8), object(6)\n",
      "memory usage: 237.3+ KB\n",
      "None\n"
     ]
    }
   ],
   "source": [
    "DATASET_CSV_PATH = \"./dataset/dataset.csv\"\n",
    "\n",
    "import pandas\n",
    "\n",
    "csv = pandas.read_csv(DATASET_CSV_PATH)\n",
    "csv.sex = csv.sex.astype('category')\n",
    "csv.has_family_history = csv.has_family_history.map(dict(yes=True, no=False))\n",
    "csv.freq_high_calorie_intake = csv.freq_high_calorie_intake.map(dict(yes=True, no=False))\n",
    "print(csv.info())"
   ]
  }
 ],
 "metadata": {
  "kernelspec": {
   "display_name": ".venv",
   "language": "python",
   "name": "python3"
  },
  "language_info": {
   "codemirror_mode": {
    "name": "ipython",
    "version": 3
   },
   "file_extension": ".py",
   "mimetype": "text/x-python",
   "name": "python",
   "nbconvert_exporter": "python",
   "pygments_lexer": "ipython3",
   "version": "3.12.6"
  }
 },
 "nbformat": 4,
 "nbformat_minor": 2
}
