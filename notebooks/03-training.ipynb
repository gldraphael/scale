{
 "cells": [
  {
   "cell_type": "code",
   "execution_count": 1,
   "metadata": {},
   "outputs": [],
   "source": [
    "import utils\n",
    "\n",
    "from sklearn.ensemble import RandomForestClassifier\n",
    "from sklearn.metrics import accuracy_score\n",
    "from sklearn.model_selection import train_test_split\n",
    "from category_encoders import OrdinalEncoder"
   ]
  },
  {
   "cell_type": "code",
   "execution_count": 2,
   "metadata": {},
   "outputs": [],
   "source": [
    "dataset = utils.get_data()\n",
    "\n",
    "enc = OrdinalEncoder()\n",
    "for column in dataset.select_dtypes(include='category'):\n",
    "    dataset[column] = enc.fit_transform(dataset[column])"
   ]
  },
  {
   "cell_type": "markdown",
   "metadata": {},
   "source": [
    "## Split"
   ]
  },
  {
   "cell_type": "code",
   "execution_count": 3,
   "metadata": {},
   "outputs": [],
   "source": [
    "# Split the data into features (X) and target (y)\n",
    "X = dataset.drop(dataset.target_obs_level.name, axis=1)\n",
    "y = dataset.target_obs_level\n",
    "\n",
    "# Use 20% to test, and the remaining to train\n",
    "X_train, X_test, y_train, y_test = train_test_split(X, y, test_size=0.2)"
   ]
  },
  {
   "cell_type": "markdown",
   "metadata": {},
   "source": [
    "## Fit & evaluate"
   ]
  },
  {
   "cell_type": "code",
   "execution_count": 4,
   "metadata": {},
   "outputs": [
    {
     "name": "stdout",
     "output_type": "stream",
     "text": [
      "Accuracy: 0.9621749408983451\n"
     ]
    }
   ],
   "source": [
    "classifier = RandomForestClassifier()\n",
    "classifier.fit(X_train, y_train)\n",
    "\n",
    "y_pred = classifier.predict(X_test)\n",
    "\n",
    "accuracy = accuracy_score(y_test, y_pred)\n",
    "print(\"Accuracy:\", accuracy)"
   ]
  },
  {
   "cell_type": "markdown",
   "metadata": {},
   "source": [
    "## Save the model"
   ]
  },
  {
   "cell_type": "code",
   "execution_count": 5,
   "metadata": {},
   "outputs": [],
   "source": [
    "from joblib import dump\n",
    "from utils.constants import MODEL_PATH\n",
    "\n",
    "with open(MODEL_PATH, \"wb\") as f:\n",
    "    dump(classifier, f, protocol=5)"
   ]
  },
  {
   "cell_type": "markdown",
   "metadata": {},
   "source": [
    "## Load the saved model"
   ]
  },
  {
   "cell_type": "code",
   "execution_count": 6,
   "metadata": {},
   "outputs": [
    {
     "name": "stdout",
     "output_type": "stream",
     "text": [
      "Prediction: 1\n"
     ]
    }
   ],
   "source": [
    "from joblib import load\n",
    "from pandas import DataFrame\n",
    "\n",
    "with open(MODEL_PATH, \"rb\") as f:\n",
    "    clf: RandomForestClassifier = load(f)\n",
    "\n",
    "feature_names = ['sex','age','height','weight','has_family_history','freq_high_calorie_intake','veg_in_meals','num_meals','food_bw_meals','is_smoker','water_intake','monitors_calories','physical_act_freq','screen_time','alcohol_freq','transportation']\n",
    "user_input_values = [1,21.0,1.62,64.0,True,False,2.0,3.0,1,False,2.0,False,0.0,1.0, 1, 1]\n",
    "\n",
    "model_input = DataFrame([user_input_values], columns=feature_names)\n",
    "prediction = clf.predict(model_input)\n",
    "\n",
    "print(f\"Prediction: {prediction[0]}\")"
   ]
  }
 ],
 "metadata": {
  "kernelspec": {
   "display_name": ".venv",
   "language": "python",
   "name": "python3"
  },
  "language_info": {
   "codemirror_mode": {
    "name": "ipython",
    "version": 3
   },
   "file_extension": ".py",
   "mimetype": "text/x-python",
   "name": "python",
   "nbconvert_exporter": "python",
   "pygments_lexer": "ipython3",
   "version": "3.12.6"
  }
 },
 "nbformat": 4,
 "nbformat_minor": 2
}
